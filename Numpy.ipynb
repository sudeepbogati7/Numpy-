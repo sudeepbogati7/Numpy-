{
 "cells": [
  {
   "cell_type": "code",
   "execution_count": 18,
   "id": "41510957",
   "metadata": {},
   "outputs": [],
   "source": [
    "import numpy as np\n",
    "import pandas as pd"
   ]
  },
  {
   "cell_type": "code",
   "execution_count": 97,
   "id": "6ca0fa01",
   "metadata": {},
   "outputs": [
    {
     "name": "stdout",
     "output_type": "stream",
     "text": [
      "[1 2 3 4 5 6 7 8 9]\n"
     ]
    }
   ],
   "source": [
    "a = np.array([1,2,3,4,5,6,7,8,9])\n",
    "print(a)"
   ]
  },
  {
   "cell_type": "code",
   "execution_count": 22,
   "id": "7f3590bd",
   "metadata": {},
   "outputs": [
    {
     "name": "stdout",
     "output_type": "stream",
     "text": [
      "[[ 1  2  3  4  5]\n",
      " [ 6  7  8  9 10]]\n"
     ]
    }
   ],
   "source": [
    "b = np.array([[1,2,3,4,5],[6,7,8,9,10]])\n",
    "print(b)"
   ]
  },
  {
   "cell_type": "code",
   "execution_count": 23,
   "id": "82519446",
   "metadata": {},
   "outputs": [
    {
     "data": {
      "text/plain": [
       "1"
      ]
     },
     "execution_count": 23,
     "metadata": {},
     "output_type": "execute_result"
    }
   ],
   "source": [
    "a.ndim"
   ]
  },
  {
   "cell_type": "code",
   "execution_count": 24,
   "id": "beca3b32",
   "metadata": {},
   "outputs": [
    {
     "data": {
      "text/plain": [
       "2"
      ]
     },
     "execution_count": 24,
     "metadata": {},
     "output_type": "execute_result"
    }
   ],
   "source": [
    "b.ndim"
   ]
  },
  {
   "cell_type": "code",
   "execution_count": 25,
   "id": "827fb8d0",
   "metadata": {},
   "outputs": [
    {
     "data": {
      "text/plain": [
       "(9,)"
      ]
     },
     "execution_count": 25,
     "metadata": {},
     "output_type": "execute_result"
    }
   ],
   "source": [
    "a.shape"
   ]
  },
  {
   "cell_type": "code",
   "execution_count": 26,
   "id": "95ac9df9",
   "metadata": {},
   "outputs": [
    {
     "data": {
      "text/plain": [
       "(2, 5)"
      ]
     },
     "execution_count": 26,
     "metadata": {},
     "output_type": "execute_result"
    }
   ],
   "source": [
    "b.shape\n"
   ]
  },
  {
   "cell_type": "code",
   "execution_count": 27,
   "id": "984c45bc",
   "metadata": {},
   "outputs": [
    {
     "data": {
      "text/plain": [
       "dtype('int32')"
      ]
     },
     "execution_count": 27,
     "metadata": {},
     "output_type": "execute_result"
    }
   ],
   "source": [
    "a.dtype"
   ]
  },
  {
   "cell_type": "code",
   "execution_count": 11,
   "id": "e39422bc",
   "metadata": {},
   "outputs": [
    {
     "data": {
      "text/plain": [
       "dtype('int32')"
      ]
     },
     "execution_count": 11,
     "metadata": {},
     "output_type": "execute_result"
    }
   ],
   "source": [
    "b.dtype"
   ]
  },
  {
   "cell_type": "code",
   "execution_count": 33,
   "id": "053c6ef4",
   "metadata": {},
   "outputs": [
    {
     "data": {
      "text/plain": [
       "2"
      ]
     },
     "execution_count": 33,
     "metadata": {},
     "output_type": "execute_result"
    }
   ],
   "source": [
    "a.itemsize"
   ]
  },
  {
   "cell_type": "code",
   "execution_count": 32,
   "id": "b7dd09cf",
   "metadata": {},
   "outputs": [
    {
     "data": {
      "text/plain": [
       "18"
      ]
     },
     "execution_count": 32,
     "metadata": {},
     "output_type": "execute_result"
    }
   ],
   "source": [
    "a.nbytes"
   ]
  },
  {
   "cell_type": "markdown",
   "id": "1f0c426d",
   "metadata": {},
   "source": [
    "## Accessing / changing speific elements, rows, columns etc"
   ]
  },
  {
   "cell_type": "code",
   "execution_count": 35,
   "id": "32ff0474",
   "metadata": {},
   "outputs": [
    {
     "name": "stdout",
     "output_type": "stream",
     "text": [
      "[[ 1  2  3  4  5  6  7  8  9]\n",
      " [11 12 13 14 15 16 17 18 19]]\n"
     ]
    }
   ],
   "source": [
    "arr = np.array([[1,2,3,4,5,6,7,8,9],[11,12,13,14,15,16,17,18,19]])\n",
    "print(arr)"
   ]
  },
  {
   "cell_type": "code",
   "execution_count": 36,
   "id": "8133fac9",
   "metadata": {},
   "outputs": [
    {
     "data": {
      "text/plain": [
       "16"
      ]
     },
     "execution_count": 36,
     "metadata": {},
     "output_type": "execute_result"
    }
   ],
   "source": [
    "arr[1,5]"
   ]
  },
  {
   "cell_type": "markdown",
   "id": "6d42b07e",
   "metadata": {},
   "source": [
    "#### Indexing starts from 0 -> points to be remembered ! "
   ]
  },
  {
   "cell_type": "markdown",
   "id": "c97a761d",
   "metadata": {},
   "source": [
    "#### get specific row"
   ]
  },
  {
   "cell_type": "code",
   "execution_count": 40,
   "id": "ea137c24",
   "metadata": {},
   "outputs": [
    {
     "data": {
      "text/plain": [
       "array([1, 2, 3, 4, 5, 6, 7, 8, 9])"
      ]
     },
     "execution_count": 40,
     "metadata": {},
     "output_type": "execute_result"
    }
   ],
   "source": [
    "arr[0,:]"
   ]
  },
  {
   "cell_type": "code",
   "execution_count": 42,
   "id": "4ccb1446",
   "metadata": {},
   "outputs": [
    {
     "data": {
      "text/plain": [
       "array([ 6, 16])"
      ]
     },
     "execution_count": 42,
     "metadata": {},
     "output_type": "execute_result"
    }
   ],
   "source": [
    "arr[:,5]"
   ]
  },
  {
   "cell_type": "code",
   "execution_count": 45,
   "id": "1139fad0",
   "metadata": {},
   "outputs": [],
   "source": [
    "arr[0,0] = 0    # to overwrite any columns or rows ------------------------------"
   ]
  },
  {
   "cell_type": "code",
   "execution_count": 46,
   "id": "071655b0",
   "metadata": {},
   "outputs": [
    {
     "data": {
      "text/plain": [
       "array([[ 0,  2,  3,  4,  5,  6,  7,  8,  9],\n",
       "       [11, 12, 13, 14, 15, 16, 17, 18, 19]])"
      ]
     },
     "execution_count": 46,
     "metadata": {},
     "output_type": "execute_result"
    }
   ],
   "source": [
    "arr     # prints "
   ]
  },
  {
   "cell_type": "markdown",
   "id": "c94dcbba",
   "metadata": {},
   "source": [
    "## Initializing different types of arrays "
   ]
  },
  {
   "cell_type": "code",
   "execution_count": 50,
   "id": "5b352636",
   "metadata": {},
   "outputs": [
    {
     "data": {
      "text/plain": [
       "array([[[0., 0.],\n",
       "        [0., 0.],\n",
       "        [0., 0.]],\n",
       "\n",
       "       [[0., 0.],\n",
       "        [0., 0.],\n",
       "        [0., 0.]]])"
      ]
     },
     "execution_count": 50,
     "metadata": {},
     "output_type": "execute_result"
    }
   ],
   "source": [
    "# all zeros matrix\n",
    "\n",
    "np.zeros((2,3,2))"
   ]
  },
  {
   "cell_type": "code",
   "execution_count": 57,
   "id": "7ad0c7f5",
   "metadata": {},
   "outputs": [
    {
     "data": {
      "text/plain": [
       "array([[[1., 1.],\n",
       "        [1., 1.]],\n",
       "\n",
       "       [[1., 1.],\n",
       "        [1., 1.]],\n",
       "\n",
       "       [[1., 1.],\n",
       "        [1., 1.]]])"
      ]
     },
     "execution_count": 57,
     "metadata": {},
     "output_type": "execute_result"
    }
   ],
   "source": [
    "# all one's matrix \n",
    "\n",
    "np.ones((3,2,2))"
   ]
  },
  {
   "cell_type": "code",
   "execution_count": 60,
   "id": "e56bd08c",
   "metadata": {},
   "outputs": [
    {
     "data": {
      "text/plain": [
       "array([[22, 22, 22],\n",
       "       [22, 22, 22]])"
      ]
     },
     "execution_count": 60,
     "metadata": {},
     "output_type": "execute_result"
    }
   ],
   "source": [
    "# any other numbers \n",
    "\n",
    "# syntax  = np.full((row,columns), the number)\n",
    "np.full((2,3),22)"
   ]
  },
  {
   "cell_type": "code",
   "execution_count": 64,
   "id": "26eadfe9",
   "metadata": {},
   "outputs": [
    {
     "data": {
      "text/plain": [
       "array([[0.55272798, 0.37806685, 0.49730324],\n",
       "       [0.15165316, 0.04024177, 0.45063224]])"
      ]
     },
     "execution_count": 64,
     "metadata": {},
     "output_type": "execute_result"
    }
   ],
   "source": [
    "# random decimal values \n",
    "\n",
    "np.random.rand(2,3)"
   ]
  },
  {
   "cell_type": "code",
   "execution_count": 68,
   "id": "51130d1b",
   "metadata": {},
   "outputs": [
    {
     "data": {
      "text/plain": [
       "array([[3, 8],\n",
       "       [3, 1],\n",
       "       [3, 0]])"
      ]
     },
     "execution_count": 68,
     "metadata": {},
     "output_type": "execute_result"
    }
   ],
   "source": [
    "# random integer values \n",
    "# syntax= np.random.randint(max number or the range, size = (row, column))\n",
    "np.random.randint(10, size = (3,2))"
   ]
  },
  {
   "cell_type": "code",
   "execution_count": 74,
   "id": "117919df",
   "metadata": {},
   "outputs": [
    {
     "data": {
      "text/plain": [
       "array([[1., 0., 0.],\n",
       "       [0., 1., 0.],\n",
       "       [0., 0., 1.]])"
      ]
     },
     "execution_count": 74,
     "metadata": {},
     "output_type": "execute_result"
    }
   ],
   "source": [
    "# indentity matrix \n",
    "\n",
    "np.identity(3)"
   ]
  },
  {
   "cell_type": "markdown",
   "id": "12fa9028",
   "metadata": {},
   "source": [
    "### Repeat the array \n"
   ]
  },
  {
   "cell_type": "code",
   "execution_count": 87,
   "id": "d482b6a6",
   "metadata": {},
   "outputs": [
    {
     "name": "stdout",
     "output_type": "stream",
     "text": [
      "[[1 2 3 4]\n",
      " [1 2 3 4]]\n"
     ]
    }
   ],
   "source": [
    "array1 = np.array([[1,2,3,4]])\n",
    "r1 = np.repeat(array1, 2, axis = 0) # syntax => np.array(name of the array, how many times to repeat, axis = 0 (vertically repeats)or 1(horizontally repeatation ))\n",
    "print(r1)"
   ]
  },
  {
   "cell_type": "markdown",
   "id": "28a3c6cf",
   "metadata": {},
   "source": [
    "### Problem1 : display the following list of matrix "
   ]
  },
  {
   "cell_type": "code",
   "execution_count": 96,
   "id": "e6390a9b",
   "metadata": {},
   "outputs": [
    {
     "name": "stdout",
     "output_type": "stream",
     "text": [
      "[[1. 1. 1. 1. 1.]\n",
      " [1. 0. 0. 0. 1.]\n",
      " [1. 0. 9. 0. 1.]\n",
      " [1. 0. 0. 0. 1.]\n",
      " [1. 1. 1. 1. 1.]]\n"
     ]
    }
   ],
   "source": [
    "#  1  1  1  1  1\n",
    "#  1  0  0  0  1\n",
    "#  1  0  9  0  1\n",
    "#  1  0  0  0  1\n",
    "#  1  1  1  1  1\n",
    "\n",
    "\n",
    "# solution ------>\n",
    "\n",
    "\n",
    "output = np.ones((5,5))\n",
    "#print(output)\n",
    "z = np.zeros((3,3))\n",
    "#print(z)\n",
    "\n",
    "z[1,1] = 9\n",
    "output[1:4,1:4]= z\n",
    "print(output)"
   ]
  },
  {
   "cell_type": "markdown",
   "id": "d5fd7daf",
   "metadata": {},
   "source": [
    "### Copying the arrays...................... "
   ]
  },
  {
   "cell_type": "code",
   "execution_count": 107,
   "id": "c437549c",
   "metadata": {},
   "outputs": [
    {
     "name": "stdout",
     "output_type": "stream",
     "text": [
      "[1 2 3 4]\n",
      "[100   2   3   4]\n"
     ]
    }
   ],
   "source": [
    "FirstArray = np.array([1,2,3,4])\n",
    "\n",
    "\n",
    "\n",
    "#SecondArray = FirstArray\n",
    "#print(SecondArray)\n",
    "\n",
    "#SecondArray[0] = 100\n",
    "#FirstArray  \n",
    "\n",
    "# _______from above -----> the 0th element changed in both arrays_____________ \n",
    "\n",
    "# -----------be careful about this while copying the arrays elements ----------- \n",
    "\n",
    "SecondArray = FirstArray.copy()\n",
    "\n",
    "SecondArray[0] = 100\n",
    "print(FirstArray)\n",
    "print(SecondArray)\n",
    "\n",
    "# ____________ solved___________________________ '_'\n",
    "\n"
   ]
  },
  {
   "cell_type": "markdown",
   "id": "04ea85b7",
   "metadata": {},
   "source": [
    "# _____________Mathematics_______"
   ]
  },
  {
   "cell_type": "code",
   "execution_count": 111,
   "id": "fb9b3ef1",
   "metadata": {},
   "outputs": [
    {
     "data": {
      "text/plain": [
       "array([0, 1, 2, 3, 4])"
      ]
     },
     "execution_count": 111,
     "metadata": {},
     "output_type": "execute_result"
    }
   ],
   "source": [
    "# let us take two arrays to perform operations in mathematics section  _______ \n",
    "\n",
    "x = np.array([1,2,3,4,5])\n",
    "x+2\n",
    "x*2\n",
    "x/2\n",
    "x-1\n",
    "\n",
    "# hence -----------arithmatics problems can be solved directly -------------------\n",
    "\n"
   ]
  },
  {
   "cell_type": "code",
   "execution_count": 112,
   "id": "41f43432",
   "metadata": {},
   "outputs": [
    {
     "data": {
      "text/plain": [
       "array([ 0.84147098,  0.90929743,  0.14112001, -0.7568025 , -0.95892427])"
      ]
     },
     "execution_count": 112,
     "metadata": {},
     "output_type": "execute_result"
    }
   ],
   "source": [
    "# for sin() values\n",
    "\n",
    "np.sin(x)"
   ]
  },
  {
   "cell_type": "markdown",
   "id": "74327622",
   "metadata": {},
   "source": [
    "### Linear Algebra"
   ]
  },
  {
   "cell_type": "code",
   "execution_count": null,
   "id": "697c4f6a",
   "metadata": {},
   "outputs": [],
   "source": [
    "#____________ matrix multiplication ________________\n",
    "\n",
    "y = np.random.randint(7, size =(2,3))\n",
    "z = np.random.randint(8, size =(3,2))\n",
    "\n",
    "\n",
    "np.matmul(y,z)   # -----> matrix multiplication syntax \n"
   ]
  },
  {
   "cell_type": "code",
   "execution_count": 118,
   "id": "fab3c434",
   "metadata": {},
   "outputs": [
    {
     "data": {
      "text/plain": [
       "1.0"
      ]
     },
     "execution_count": 118,
     "metadata": {},
     "output_type": "execute_result"
    }
   ],
   "source": [
    "#___________Matrix Determinant___________________\n",
    "\n",
    "c = np.identity(3)\n",
    "\n",
    "np.linalg.det(c)  #------> here's the determinant syntax -------\n",
    "# note : determinant value of identity matrix is 0     '_'"
   ]
  },
  {
   "cell_type": "markdown",
   "id": "6b57c750",
   "metadata": {},
   "source": [
    "## Statistics"
   ]
  },
  {
   "cell_type": "code",
   "execution_count": 121,
   "id": "4f2dd98d",
   "metadata": {},
   "outputs": [
    {
     "data": {
      "text/plain": [
       "array([1, 2, 3])"
      ]
     },
     "execution_count": 121,
     "metadata": {},
     "output_type": "execute_result"
    }
   ],
   "source": [
    "stats = np.array([[1,2,3],[4,5,6]])\n",
    "stats\n",
    "\n",
    "# ________min value_____\n",
    "\n",
    "\n",
    "np.min(stats, axis=0)  \n"
   ]
  },
  {
   "cell_type": "code",
   "execution_count": 126,
   "id": "054bbc14",
   "metadata": {},
   "outputs": [
    {
     "data": {
      "text/plain": [
       "array([4, 5, 6])"
      ]
     },
     "execution_count": 126,
     "metadata": {},
     "output_type": "execute_result"
    }
   ],
   "source": [
    "# ______max value_______\n",
    "\n",
    "# np.max(stats)  # -> shows of whole array\n",
    "\n",
    "np.max(stats,axis = 0)  "
   ]
  },
  {
   "cell_type": "code",
   "execution_count": 130,
   "id": "88b6ace6",
   "metadata": {},
   "outputs": [
    {
     "data": {
      "text/plain": [
       "array([5, 7, 9])"
      ]
     },
     "execution_count": 130,
     "metadata": {},
     "output_type": "execute_result"
    }
   ],
   "source": [
    "# ____________sum_______________\n",
    "\n",
    "np.sum(stats) # finds the sum of whole array\n",
    "\n",
    "np.sum(stats, axis =1)\n",
    "np.sum(stats, axis =0)"
   ]
  },
  {
   "cell_type": "markdown",
   "id": "6a7bc298",
   "metadata": {},
   "source": [
    "# Reorganizing arrays \n"
   ]
  },
  {
   "cell_type": "code",
   "execution_count": 145,
   "id": "9e1b25f0",
   "metadata": {},
   "outputs": [
    {
     "name": "stdout",
     "output_type": "stream",
     "text": [
      "(2, 4)\n"
     ]
    },
    {
     "data": {
      "text/plain": [
       "array([[1, 2, 3, 4],\n",
       "       [5, 6, 7, 8]])"
      ]
     },
     "execution_count": 145,
     "metadata": {},
     "output_type": "execute_result"
    }
   ],
   "source": [
    "before = np.array([[1,2,3,4],[5,6,7,8]])\n",
    "print(before.shape)  #----finds the dimension \n",
    "\n",
    "\n",
    "#  ------to reshape the above array -------\n",
    "\n",
    "#after = before.reshape((4,2))\n",
    "#after = before.reshape((8,1))\n",
    "after = before.reshape((2,4))\n",
    "after"
   ]
  },
  {
   "cell_type": "markdown",
   "id": "59f1ffe9",
   "metadata": {},
   "source": [
    "## Vertically Stacking Vectors "
   ]
  },
  {
   "cell_type": "code",
   "execution_count": 147,
   "id": "b7a6595b",
   "metadata": {},
   "outputs": [
    {
     "data": {
      "text/plain": [
       "array([[1, 2, 3, 4],\n",
       "       [5, 6, 7, 8],\n",
       "       [1, 2, 3, 4],\n",
       "       [5, 6, 7, 8]])"
      ]
     },
     "execution_count": 147,
     "metadata": {},
     "output_type": "execute_result"
    }
   ],
   "source": [
    "v1 = np.array([1,2,3,4])\n",
    "v2 = np.array([5,6,7,8])\n",
    "\n",
    "np.vstack([v1,v2,v1,v2])    # vertically stacked "
   ]
  },
  {
   "cell_type": "markdown",
   "id": "d7fe1079",
   "metadata": {},
   "source": [
    "## Horizontally Stacking"
   ]
  },
  {
   "cell_type": "code",
   "execution_count": 149,
   "id": "b45da98d",
   "metadata": {},
   "outputs": [
    {
     "data": {
      "text/plain": [
       "array([ 2,  4,  5, 10,  5, 10,  2,  4])"
      ]
     },
     "execution_count": 149,
     "metadata": {},
     "output_type": "execute_result"
    }
   ],
   "source": [
    "h1 = np.array([2,4])\n",
    "h2 = np.array([5,10])\n",
    "\n",
    "np.hstack([h1,h2,h2,h1])"
   ]
  },
  {
   "cell_type": "markdown",
   "id": "f7ee6bda",
   "metadata": {},
   "source": [
    "# __ Miscellaneous__"
   ]
  },
  {
   "cell_type": "markdown",
   "id": "fb4dc2a5",
   "metadata": {},
   "source": [
    "##### Load data from a file "
   ]
  },
  {
   "cell_type": "code",
   "execution_count": 172,
   "id": "1d122b26",
   "metadata": {},
   "outputs": [
    {
     "data": {
      "text/plain": [
       "array([[  1,   5,   7,   9,  11,  13,  15,  16,   2,   4],\n",
       "       [ 45,  23,  46,  78,  49,  62,  85,  78,   5,  32],\n",
       "       [ 32,  35,  39,  37,  95,  65,  87,  65, 188,  45]])"
      ]
     },
     "execution_count": 172,
     "metadata": {},
     "output_type": "execute_result"
    }
   ],
   "source": [
    "fileData = np.genfromtxt('data.txt',delimiter = ',')\n",
    "fileData = fileData.astype('int32')\n",
    "fileData"
   ]
  },
  {
   "cell_type": "markdown",
   "id": "ed46d449",
   "metadata": {},
   "source": [
    "##### Bolean Masking and Advanced Indexing "
   ]
  },
  {
   "cell_type": "code",
   "execution_count": 161,
   "id": "9a5d743f",
   "metadata": {},
   "outputs": [
    {
     "data": {
      "text/plain": [
       "array([[False, False, False, False,  True,  True,  True,  True, False,\n",
       "        False],\n",
       "       [ True,  True,  True,  True,  True,  True,  True,  True, False,\n",
       "         True],\n",
       "       [ True,  True,  True,  True,  True,  True,  True,  True,  True,\n",
       "         True]])"
      ]
     },
     "execution_count": 161,
     "metadata": {},
     "output_type": "execute_result"
    }
   ],
   "source": [
    "fileData > 10  \n",
    "fileData >= 10\n",
    "#.....\n",
    "# or other equalities "
   ]
  },
  {
   "cell_type": "code",
   "execution_count": 166,
   "id": "6e8f4e7f",
   "metadata": {},
   "outputs": [
    {
     "data": {
      "text/plain": [
       "array([ 11,  13,  15,  16,  45,  23,  46,  78,  49,  62,  85,  78,  32,\n",
       "        32,  35,  39,  37,  95,  65,  87,  65, 188,  45])"
      ]
     },
     "execution_count": 166,
     "metadata": {},
     "output_type": "execute_result"
    }
   ],
   "source": [
    "# _____ indexin'____\n",
    "\n",
    "fileData [fileData>10]    #shows data greater than 10 \n"
   ]
  },
  {
   "cell_type": "code",
   "execution_count": 175,
   "id": "1afcdeb9",
   "metadata": {},
   "outputs": [
    {
     "data": {
      "text/plain": [
       "array([ True,  True,  True,  True,  True,  True,  True,  True,  True,\n",
       "        True])"
      ]
     },
     "execution_count": 175,
     "metadata": {},
     "output_type": "execute_result"
    }
   ],
   "source": [
    "#____also ---->\n",
    "\n",
    "np.any(fileData >20, axis = 0)"
   ]
  },
  {
   "cell_type": "code",
   "execution_count": 178,
   "id": "08225c30",
   "metadata": {},
   "outputs": [
    {
     "data": {
      "text/plain": [
       "array([[False, False, False, False, False, False, False, False, False,\n",
       "        False],\n",
       "       [False, False, False, False, False, False, False, False, False,\n",
       "        False],\n",
       "       [False, False, False, False, False, False, False, False, False,\n",
       "        False]])"
      ]
     },
     "execution_count": 178,
     "metadata": {},
     "output_type": "execute_result"
    }
   ],
   "source": [
    "#----------- define range-------\n",
    "\n",
    "((fileData >0) & (fileData<20))\n",
    "\n",
    "# also values \n",
    "\n",
    "fileData[((fileData >0) & (fileData<20))]\n",
    "\n",
    "\n",
    "# using not gate(~) ---> reverse\n",
    "\n",
    "(~(fileData >0) & (fileData<20)) "
   ]
  },
  {
   "cell_type": "markdown",
   "id": "e286063d",
   "metadata": {},
   "source": [
    "## That's It Myan !"
   ]
  },
  {
   "cell_type": "code",
   "execution_count": null,
   "id": "437093f5",
   "metadata": {},
   "outputs": [],
   "source": []
  }
 ],
 "metadata": {
  "kernelspec": {
   "display_name": "Python 3 (ipykernel)",
   "language": "python",
   "name": "python3"
  },
  "language_info": {
   "codemirror_mode": {
    "name": "ipython",
    "version": 3
   },
   "file_extension": ".py",
   "mimetype": "text/x-python",
   "name": "python",
   "nbconvert_exporter": "python",
   "pygments_lexer": "ipython3",
   "version": "3.9.13"
  }
 },
 "nbformat": 4,
 "nbformat_minor": 5
}
